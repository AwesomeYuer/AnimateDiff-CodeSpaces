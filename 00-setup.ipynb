{
 "cells": [
  {
   "cell_type": "markdown",
   "metadata": {},
   "source": [
    "# hello\n",
    "\n",
    "```\n",
    "# Hello world\n",
    "```"
   ]
  },
  {
   "cell_type": "code",
   "execution_count": null,
   "metadata": {},
   "outputs": [],
   "source": [
    "! conda env create -f environment.yaml"
   ]
  },
  {
   "cell_type": "code",
   "execution_count": null,
   "metadata": {},
   "outputs": [],
   "source": [
    "! python3 --version\n",
    "\n",
    "! pip list"
   ]
  },
  {
   "cell_type": "code",
   "execution_count": null,
   "metadata": {},
   "outputs": [],
   "source": [
    "! pip install omegaconf\n",
    "\n",
    "! pip show diffusers\n",
    "\n",
    "! pip install diffusers\n",
    "\n",
    "! pip install torch\n",
    "\n",
    "! pip install transformers\n",
    "\n",
    "! pip install einops\n",
    "\n",
    "! pip install torchvision\n",
    "\n",
    "! pip install imageio"
   ]
  },
  {
   "cell_type": "code",
   "execution_count": null,
   "metadata": {},
   "outputs": [],
   "source": [
    "\n",
    "! wget https://huggingface.co/guoyww/animatediff/resolve/main/v2_lora_PanLeft.ckpt -P models/MotionLoRA/ -N\n",
    "\n",
    "! wget https://huggingface.co/guoyww/animatediff/resolve/main/v2_lora_PanRight.ckpt -P models/MotionLoRA/ -N\n",
    "\n",
    "! wget https://huggingface.co/guoyww/animatediff/resolve/main/v2_lora_RollingAnticlockwise.ckpt -P models/MotionLoRA/ -N\n",
    "\n",
    "! wget https://huggingface.co/guoyww/animatediff/resolve/main/v2_lora_RollingClockwise.ckpt -P models/MotionLoRA/ -N\n",
    "\n",
    "! wget https://huggingface.co/guoyww/animatediff/resolve/main/v2_lora_TiltDown.ckpt -P models/MotionLoRA/ -N\n",
    "\n",
    "! wget https://huggingface.co/guoyww/animatediff/resolve/main/v2_lora_TiltUp.ckpt -P models/MotionLoRA/ -N\n",
    "\n",
    "! wget https://huggingface.co/guoyww/animatediff/resolve/main/v2_lora_ZoomIn.ckpt -P models/MotionLoRA/ -N\n",
    "\n",
    "! wget https://huggingface.co/guoyww/animatediff/resolve/main/v2_lora_ZoomOut.ckpt -P models/MotionLoRA/ -N"
   ]
  },
  {
   "cell_type": "code",
   "execution_count": null,
   "metadata": {},
   "outputs": [],
   "source": [
    "! wget https://huggingface.co/runwayml/stable-diffusion-v1-5/resolve/main/v1-5-pruned-emaonly.ckpt -P models/StableDiffusion/ -N"
   ]
  },
  {
   "cell_type": "code",
   "execution_count": null,
   "metadata": {},
   "outputs": [],
   "source": [
    "! pip install transfomers"
   ]
  },
  {
   "cell_type": "code",
   "execution_count": null,
   "metadata": {},
   "outputs": [],
   "source": []
  },
  {
   "cell_type": "code",
   "execution_count": null,
   "metadata": {},
   "outputs": [],
   "source": [
    "! pip install --upgrade transfomers"
   ]
  },
  {
   "cell_type": "code",
   "execution_count": null,
   "metadata": {},
   "outputs": [],
   "source": [
    "! pip show transfomers\n",
    "# ! pip install transfomers\n",
    "# ! pip install --upgrade transfomers\n",
    "# ! pip show transfomers"
   ]
  },
  {
   "cell_type": "code",
   "execution_count": null,
   "metadata": {},
   "outputs": [],
   "source": [
    "! python -m scripts.animate --config configs/prompts/v2/5-RealisticVision-MotionLoRA.yaml"
   ]
  },
  {
   "cell_type": "code",
   "execution_count": null,
   "metadata": {},
   "outputs": [],
   "source": []
  },
  {
   "cell_type": "code",
   "execution_count": null,
   "metadata": {},
   "outputs": [],
   "source": []
  }
 ],
 "metadata": {
  "kernelspec": {
   "display_name": "Python 3.10 - SDK v2",
   "language": "python",
   "name": "python310-sdkv2"
  },
  "language_info": {
   "codemirror_mode": {
    "name": "ipython",
    "version": 3
   },
   "file_extension": ".py",
   "mimetype": "text/x-python",
   "name": "python",
   "nbconvert_exporter": "python",
   "pygments_lexer": "ipython3",
   "version": "3.10.11"
  }
 },
 "nbformat": 4,
 "nbformat_minor": 2
}
